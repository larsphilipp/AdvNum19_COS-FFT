{
 "cells": [
  {
   "cell_type": "code",
   "execution_count": 32,
   "metadata": {},
   "outputs": [
    {
     "data": {
      "text/plain": [
       "{'divide': 'ignore', 'over': 'warn', 'under': 'ignore', 'invalid': 'ignore'}"
      ]
     },
     "execution_count": 32,
     "metadata": {},
     "output_type": "execute_result"
    }
   ],
   "source": [
    "import numpy as np\n",
    "from scipy.special import erf\n",
    "np.seterr(divide='ignore', invalid='ignore')"
   ]
  },
  {
   "cell_type": "code",
   "execution_count": 33,
   "metadata": {},
   "outputs": [],
   "source": [
    "def cosSerExp(a,b,c,d,k):\n",
    "      # cosine series coefficients of exp(y) Oosterle (22)\n",
    "      # INPUT     a,b ... 1x1     arguments in the cosine\n",
    "      #           c,d ... 1x1     integration boundaries in (20)\n",
    "      #           k   ... FFT.Nx1 values of k\n",
    "    bma = b-a\n",
    "    uu  = k*np.pi/bma\n",
    "    chi = np.multiply(np.divide(1, (1 + np.power(uu,2))), (np.cos(uu * (d-a)) * np.exp(d) - np.cos(uu * (c-a)) * np.exp(c) + np.multiply(uu,np.sin(uu*(d-a)))*np.exp(d)-np.multiply(uu,np.sin(uu*(c-a)))*np.exp(c)))\n",
    "    return chi\n",
    "\n",
    "\n",
    "def cosSer1(a,b,c,d,k):\n",
    "  # cosine series coefficients of 1 Oosterle (23)\n",
    "  # INPUT     a,b ... 1x1     arguments in the cosine\n",
    "  #           c,d ... 1x1     integration boundaries in (20)\n",
    "  #           k   ... FFT.Nx1 values of k\n",
    "    bma    = b-a\n",
    "    uu     = k*np.pi/bma\n",
    "    uu[0]  = 1      # to avoid case differentiation (done 2 lines below)\n",
    "    psi    = np.divide(1,uu) * ( np.sin(uu*(d-a)) - np.sin(uu*(c-a)) )\n",
    "    psi[0] = d-c\n",
    "    return psi"
   ]
  },
  {
   "cell_type": "code",
   "execution_count": 41,
   "metadata": {},
   "outputs": [],
   "source": [
    "# In[2]: Inputs for Option\n",
    "r     = 0        # risk-free rate\n",
    "mu    = r          # model parameters\n",
    "sigma = 0.3    \n",
    "S0    = 100        # Today's stock price\n",
    "tau   = 0.1       # Time to expiry in years\n",
    "q     = 0\n",
    "K     = np.arange(70, 131, dtype = np.float) #np.arange(100, 101, dtype = np.float) #np.arange(70, 131, dtype = np.float)"
   ]
  },
  {
   "cell_type": "code",
   "execution_count": 42,
   "metadata": {},
   "outputs": [],
   "source": [
    "# In[4]: Inputs for COS-FFT Method (suffcient for BS Char Func)\n",
    "scalea = -10 # how many standard deviations?\n",
    "scaleb = 10 \n",
    "a      = scalea*np.sqrt(tau)*sigma\n",
    "b      = scaleb*np.sqrt(tau)*sigma\n",
    "bma    = b-a\n",
    "N      = 50\n",
    "k      = np.arange(0, N, dtype=np.float)\n",
    "u      = k*np.pi/bma"
   ]
  },
  {
   "cell_type": "code",
   "execution_count": 43,
   "metadata": {},
   "outputs": [],
   "source": [
    "u      = (k) * np.pi / bma  # Input into phi\n",
    "u0     = 0.0175             # Initial Vola of underyling at time 0 (called \"a\" in original paper)\n",
    "bj     = 1.5768             # The speed of mean reversion also called lambda in Fang Paper; original Paper: b1 =kappa+lam-rho*sigma\n",
    "v_bar  = 0.0398             # Also called u-bar, Mean level of variance of the underlying\n",
    "uj     = 0.5                # In the original paper it is 0.5 and -0.5 -> *2 equals 1, so may be not relevant (not included in Fang papr)\n",
    "volvol = 0.5751             # Volatility of the volatiltiy process (if 0 then constant Vol like BS)\n",
    "rho    = -0.5711            # Covariance between the log stock and the variance process"
   ]
  },
  {
   "cell_type": "code",
   "execution_count": 44,
   "metadata": {},
   "outputs": [],
   "source": [
    "def charFuncHestonFO(mu, u, tau, u0, bj, v_bar, uj, rho, volvol):\n",
    "    d = np.sqrt(np.power(bj - rho * volvol * u * 1j, 2) + np.power(volvol,2) * (np.power(u,2) + u * 1j))\n",
    "    g = (bj - rho * volvol * u * 1j - d) / (bj - rho * volvol * u * 1j + d)\n",
    "    C = np.divide(bj * v_bar, np.power(volvol,2)) * ( (bj - rho * volvol * 1j * u - d) * tau - 2 * np.log(np.divide((1 - g * np.exp((-d) * tau)) , (1-g)) ))\n",
    "    D = mu * u * 1j * tau + u0 / np.power(volvol,2) * ((1 - np.exp((-d) * tau)) / (1 - g * np.exp((-d) * tau))) * (bj - rho * volvol * u * 1j - d) \n",
    "    phi = np.exp(D) * np.exp(C)\n",
    "    return phi"
   ]
  },
  {
   "cell_type": "code",
   "execution_count": 45,
   "metadata": {},
   "outputs": [],
   "source": [
    "phi = charFuncHestonFO(mu, u, tau, u0, bj, v_bar, uj, rho, volvol)"
   ]
  },
  {
   "cell_type": "code",
   "execution_count": 46,
   "metadata": {},
   "outputs": [],
   "source": [
    "Uk = 2 / bma * ( cosSerExp(a,b,0,b,k) - cosSer1(a,b,0,b,k) )\n",
    "\n",
    "C_COS_HFO = np.zeros((np.size(K)))\n",
    "\n",
    "for m in range(0, np.size(K)):\n",
    "    x  = np.log(S0/K[m])\n",
    "    addIntegratedTerm = np.exp(1j*k*np.pi*(x-a)/bma)\n",
    "    Fk = np.real(np.multiply(phi, addIntegratedTerm)) \n",
    "    Fk[0] = 0.5 * Fk[0]\t\t\t\t\t\t# weigh first term 1/2\n",
    "    C_COS_HFO[m] = K[m] * np.sum(np.multiply(Fk, Uk)) * np.exp(-r * tau)"
   ]
  },
  {
   "cell_type": "code",
   "execution_count": 47,
   "metadata": {},
   "outputs": [
    {
     "name": "stdout",
     "output_type": "stream",
     "text": [
      "[ 3.00013692e+01  2.89986358e+01  2.79975895e+01  2.69993434e+01\n",
      "  2.60019012e+01  2.50025873e+01  2.40008820e+01  2.29987551e+01\n",
      "  2.19985358e+01  2.10007033e+01  2.00036581e+01  1.90054107e+01\n",
      "  1.80054545e+01  1.70052186e+01  1.60069305e+01  1.50120206e+01\n",
      "  1.40203849e+01  1.30309844e+01  1.20432362e+01  1.10581881e+01\n",
      "  1.00787584e+01  9.10901496e+00  8.15307237e+00  7.21437776e+00\n",
      "  6.29592326e+00  5.40143304e+00  4.53706821e+00  3.71286500e+00\n",
      "  2.94309261e+00  2.24501400e+00  1.63607993e+00  1.13020205e+00\n",
      "  7.34198249e-01  4.45579900e-01  2.52487331e-01  1.35890927e-01\n",
      "  7.34200724e-02  4.36563418e-02  2.96322130e-02  2.06325601e-02\n",
      "  1.20412349e-02  3.64338352e-03 -2.76551871e-03 -5.53636414e-03\n",
      " -4.42699536e-03 -7.62422277e-04  3.26209066e-03  5.62099812e-03\n",
      "  5.30472283e-03  2.62479252e-03 -1.07944421e-03 -4.12981798e-03\n",
      " -5.25757324e-03 -4.09742013e-03 -1.25867554e-03  2.00497275e-03\n",
      "  4.35057146e-03  4.88391932e-03  3.47435215e-03  7.49184626e-04\n",
      " -2.19795873e-03]\n"
     ]
    }
   ],
   "source": [
    "print(C_COS_HFO)"
   ]
  },
  {
   "cell_type": "code",
   "execution_count": null,
   "metadata": {},
   "outputs": [],
   "source": []
  },
  {
   "cell_type": "code",
   "execution_count": null,
   "metadata": {},
   "outputs": [],
   "source": []
  },
  {
   "cell_type": "code",
   "execution_count": null,
   "metadata": {},
   "outputs": [],
   "source": []
  },
  {
   "cell_type": "code",
   "execution_count": null,
   "metadata": {},
   "outputs": [],
   "source": []
  }
 ],
 "metadata": {
  "kernelspec": {
   "display_name": "Python 3",
   "language": "python",
   "name": "python3"
  },
  "language_info": {
   "codemirror_mode": {
    "name": "ipython",
    "version": 3
   },
   "file_extension": ".py",
   "mimetype": "text/x-python",
   "name": "python",
   "nbconvert_exporter": "python",
   "pygments_lexer": "ipython3",
   "version": "3.7.1"
  }
 },
 "nbformat": 4,
 "nbformat_minor": 2
}
