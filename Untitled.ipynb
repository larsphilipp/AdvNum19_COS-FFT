{
 "cells": [
  {
   "cell_type": "code",
   "execution_count": 1,
   "metadata": {},
   "outputs": [
    {
     "data": {
      "text/plain": [
       "{'divide': 'warn', 'over': 'warn', 'under': 'ignore', 'invalid': 'warn'}"
      ]
     },
     "execution_count": 1,
     "metadata": {},
     "output_type": "execute_result"
    }
   ],
   "source": [
    "import numpy as np\n",
    "from scipy.special import erf\n",
    "np.seterr(divide='ignore', invalid='ignore')"
   ]
  },
  {
   "cell_type": "code",
   "execution_count": 2,
   "metadata": {},
   "outputs": [],
   "source": [
    "def cosSerExp(a,b,c,d,k):\n",
    "      # cosine series coefficients of exp(y) Oosterle (22)\n",
    "      # INPUT     a,b ... 1x1     arguments in the cosine\n",
    "      #           c,d ... 1x1     integration boundaries in (20)\n",
    "      #           k   ... FFT.Nx1 values of k\n",
    "    bma = b-a\n",
    "    uu  = k*np.pi/bma\n",
    "    chi = np.multiply(np.divide(1, (1 + np.power(uu,2))), (np.cos(uu * (d-a)) * np.exp(d) - np.cos(uu * (c-a)) * np.exp(c) + np.multiply(uu,np.sin(uu*(d-a)))*np.exp(d)-np.multiply(uu,np.sin(uu*(c-a)))*np.exp(c)))\n",
    "    return chi\n",
    "\n",
    "\n",
    "def cosSer1(a,b,c,d,k):\n",
    "  # cosine series coefficients of 1 Oosterle (23)\n",
    "  # INPUT     a,b ... 1x1     arguments in the cosine\n",
    "  #           c,d ... 1x1     integration boundaries in (20)\n",
    "  #           k   ... FFT.Nx1 values of k\n",
    "    bma    = b-a\n",
    "    uu     = k*np.pi/bma\n",
    "    uu[0]  = 1      # to avoid case differentiation (done 2 lines below)\n",
    "    psi    = np.divide(1,uu) * ( np.sin(uu*(d-a)) - np.sin(uu*(c-a)) )\n",
    "    psi[0] = d-c\n",
    "    return psi"
   ]
  },
  {
   "cell_type": "code",
   "execution_count": 3,
   "metadata": {},
   "outputs": [],
   "source": [
    "# In[2]: Inputs for Option\n",
    "r     = 0        # risk-free rate\n",
    "mu    = r          # model parameters\n",
    "sigma = 0.3    \n",
    "S0    = 100        # Today's stock price\n",
    "tau   = 1       # Time to expiry in years\n",
    "q     = 0\n",
    "K     = np.arange(70, 131, dtype = np.float) #np.arange(100, 101, dtype = np.float) #np.arange(70, 131, dtype = np.float)"
   ]
  },
  {
   "cell_type": "code",
   "execution_count": 4,
   "metadata": {},
   "outputs": [],
   "source": [
    "# In[4]: Inputs for COS-FFT Method (suffcient for BS Char Func)\n",
    "scalea = -10 # how many standard deviations?\n",
    "scaleb = 10 \n",
    "a      = scalea*np.sqrt(tau)*sigma\n",
    "b      = scaleb*np.sqrt(tau)*sigma\n",
    "bma    = b-a\n",
    "N      = 50\n",
    "k      = np.arange(0, N, dtype=np.float)\n",
    "u      = k*np.pi/bma"
   ]
  },
  {
   "cell_type": "code",
   "execution_count": 5,
   "metadata": {},
   "outputs": [],
   "source": [
    "u      = (k) * np.pi / bma  # Input into phi\n",
    "u0     = 0.0175             # Initial Vola of underyling at time 0 (called \"a\" in original paper)\n",
    "bj     = 1.5768             # The speed of mean reversion also called lambda in Fang Paper; original Paper: b1 =kappa+lam-rho*sigma\n",
    "v_bar  = 0.0398             # Also called u-bar, Mean level of variance of the underlying\n",
    "uj     = 0.5                # In the original paper it is 0.5 and -0.5 -> *2 equals 1, so may be not relevant (not included in Fang papr)\n",
    "volvol = 0.5751             # Volatility of the volatiltiy process (if 0 then constant Vol like BS)\n",
    "rho    = -0.5711            # Covariance between the log stock and the variance process"
   ]
  },
  {
   "cell_type": "code",
   "execution_count": 6,
   "metadata": {},
   "outputs": [],
   "source": [
    "def charFuncHestonFO(mu, u, tau, u0, bj, v_bar, uj, rho, volvol):\n",
    "    d = np.sqrt(np.power(bj - rho * volvol * u * 1j, 2) + np.power(volvol,2) * (np.power(u,2) + u * 1j))\n",
    "    g = (bj - rho * volvol * u * 1j - d) / (bj - rho * volvol * u * 1j + d)\n",
    "    C = np.divide(bj * v_bar, np.power(volvol,2)) * ( (bj - rho * volvol * 1j * u - d) * tau - 2 * np.log(np.divide((1 - g * np.exp((-d) * tau)) , (1-g)) ))\n",
    "    D = mu * u * 1j * tau + u0 / np.power(volvol,2) * ((1 - np.exp((-d) * tau)) / (1 - g * np.exp((-d) * tau))) * (bj - rho * volvol * u * 1j - d) \n",
    "    phi = np.exp(D) * np.exp(C)\n",
    "    return phi"
   ]
  },
  {
   "cell_type": "code",
   "execution_count": 7,
   "metadata": {},
   "outputs": [],
   "source": [
    "phi = charFuncHestonFO(mu, u, tau, u0, bj, v_bar, uj, rho, volvol)"
   ]
  },
  {
   "cell_type": "code",
   "execution_count": 10,
   "metadata": {},
   "outputs": [],
   "source": [
    "Uk = 2 / bma * ( cosSerExp(a,b,0,b,k) - cosSer1(a,b,0,b,k) )\n",
    "\n",
    "C_COS_HFO = np.zeros((np.size(K)))\n",
    "\n",
    "for m in range(0, np.size(K)):\n",
    "    x  = np.log(S0/K[m])\n",
    "    addIntegratedTerm = np.exp(1j*k*np.pi*(x-a)/bma)\n",
    "    Fk = np.real(np.multiply(phi, addIntegratedTerm)) \n",
    "    Fk[0] = 0.5 * Fk[0]\t\t\t\t\t\t# weigh first term 1/2\n",
    "    C_COS_HFO[m] = K[m] * np.sum(np.multiply(Fk, Uk)) * np.exp(-r * tau)"
   ]
  },
  {
   "cell_type": "code",
   "execution_count": 11,
   "metadata": {},
   "outputs": [
    {
     "name": "stdout",
     "output_type": "stream",
     "text": [
      "[30.50014179 29.53962496 28.58845311 27.64728815 26.71608557 25.79419336\n",
      " 24.88051451 23.97370633 23.07238983 22.17534542 21.28167629 20.3909271\n",
      " 19.5031521  18.6189328  17.73935018 16.86592014 16.0005028  15.14519707\n",
      " 14.30223152 13.47386089 12.66227575 11.86953031 11.09749099 10.34780608\n",
      "  9.62189499  8.92095395  8.24597442  7.59776955  6.97700449  6.38422638\n",
      "  5.8198907   5.28438142  4.7780234   4.3010863   3.85378022  3.43624421\n",
      "  3.0485288   2.69057494  2.36219109  2.06303089  1.7925734   1.55010754\n",
      "  1.33472246  1.14530455  0.98054183  0.83893583  0.71882047  0.61838752\n",
      "  0.53571738  0.46881407  0.41564299  0.37417     0.34240028  0.3184156\n",
      "  0.30040874  0.2867139   0.27583219  0.26645166  0.25746124  0.24795867\n",
      "  0.23725223]\n"
     ]
    }
   ],
   "source": [
    "print(C_COS_HFO)"
   ]
  },
  {
   "cell_type": "code",
   "execution_count": null,
   "metadata": {},
   "outputs": [],
   "source": []
  },
  {
   "cell_type": "code",
   "execution_count": null,
   "metadata": {},
   "outputs": [],
   "source": []
  },
  {
   "cell_type": "code",
   "execution_count": null,
   "metadata": {},
   "outputs": [],
   "source": []
  },
  {
   "cell_type": "code",
   "execution_count": null,
   "metadata": {},
   "outputs": [],
   "source": []
  }
 ],
 "metadata": {
  "kernelspec": {
   "display_name": "Python 3",
   "language": "python",
   "name": "python3"
  },
  "language_info": {
   "codemirror_mode": {
    "name": "ipython",
    "version": 3
   },
   "file_extension": ".py",
   "mimetype": "text/x-python",
   "name": "python",
   "nbconvert_exporter": "python",
   "pygments_lexer": "ipython3",
   "version": "3.7.1"
  }
 },
 "nbformat": 4,
 "nbformat_minor": 2
}
